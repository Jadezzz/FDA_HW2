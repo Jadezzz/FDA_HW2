{
 "cells": [
  {
   "cell_type": "markdown",
   "metadata": {},
   "source": [
    "# Desicion Tree Practice"
   ]
  },
  {
   "cell_type": "code",
   "execution_count": 1,
   "metadata": {},
   "outputs": [],
   "source": [
    "import pandas as pd\n",
    "import numpy as np\n",
    "import matplotlib.pyplot as plt\n",
    "import seaborn as sns\n",
    "\n",
    "from sklearn.externals.six import StringIO   \n",
    "from sklearn.tree import export_graphviz\n",
    "import pydotplus\n",
    "\n",
    "import warnings\n",
    "warnings.simplefilter(action='ignore', category=FutureWarning)\n",
    "np.random.seed(42)"
   ]
  },
  {
   "cell_type": "markdown",
   "metadata": {},
   "source": [
    "## 1. Question \n",
    "\n",
    "### 判斷這個人是否要當兵（常備役）\n",
    "\n",
    "<img src=\"https://imgur.dcard.tw/MLB3IGs.jpg\" width=500>\n",
    "\n",
    "\n",
    "\n",
    "根據中華民國憲法第二十條\n",
    ">「人民有依法律服兵役之義務」。\n",
    "\n",
    "兵役法第一條\n",
    ">「中華民國男子依法皆有服兵役之義務」。\n",
    "\n",
    "兵役法規定\n",
    "> 男子年滿十八歲之翌年一月一日起役，至屆滿四十五歲之年十二月三十一日除役時止\n",
    "\n",
    "基本上，所有18歲以上的的 “男生” 都需要當兵（常備役）。\n",
    "\n",
    "但是也有一些例外，根據[身高體重體位區分標準表](http://servap3.docms.gov.taipei/pdf/102121101.pdf)，BMI不符合標準的可以不用當常備役兵。\n",
    "\n",
    "> 常備役體位\n",
    "> 17≦BMI≦31\n",
    "\n",
    "扁平足也不屬於常備役體位"
   ]
  },
  {
   "cell_type": "markdown",
   "metadata": {},
   "source": [
    "## 2. Attributes\n",
    "\n",
    "1. 性別（Sex）：男生（1），女生（0）\n",
    "2. 年齡（Age）：<100 的 Integer，代表年齡\n",
    "3. BMI指數（BMI）：< 100 的 Float，代表BMI\n",
    "4. 扁平足（flat feet）：有扁平足（1)，無扁平足（0）\n",
    "5. 是否需要當兵（Target）：需要當兵（1），不需要當兵（0）"
   ]
  },
  {
   "cell_type": "markdown",
   "metadata": {},
   "source": [
    "## 3. Designed Rules\n",
    "\n",
    "以下四個條件同時成立\n",
    "\n",
    "1. 性別 = 1 （男生）\n",
    "2. 年齡 >= 18\n",
    "3. 17 <= BMI <= 31\n",
    "4. 扁平足 = 0（無扁平足）\n",
    "\n",
    "\n",
    "假定 Decision Tree：\n",
    "\n",
    "<img src='thumbs/my_dt.png' width=400 align=left>"
   ]
  },
  {
   "cell_type": "markdown",
   "metadata": {},
   "source": [
    "## 4. Generate Data\n",
    "\n",
    "* 性別\n",
    "    \n",
    "    爲了避免unbalanced data，產生70%男生和30%女生\n",
    "    \n",
    "\n",
    "* 年齡\n",
    "    \n",
    "    在14~22歲之間以uniform distribution生成\n",
    "    \n",
    "    \n",
    "* BMI\n",
    "    \n",
    "    根據[衛服部統計資料](https://www.mohw.gov.tw/dl-13424-64eb6290-6a45-4a5d-aa6a-77b5c3deb327.html)\n",
    "\n",
    "    > 臺灣男性（19~44歲）BMI：平均值 24.5，標準誤 0.3，樣本數426\n",
    "\n",
    "    > 臺灣女性（19~44歲）BMI：平均值 23.0，標準誤 0.3，樣本數510\n",
    "    \n",
    "    用以下公式轉換：\n",
    "    \n",
    "    $$標準差（SD） =  標準誤 × \\sqrt{樣本數}$$\n",
    "    \n",
    "    得出結果：\n",
    "    \n",
    "    > 男性標準差：6.19\n",
    "    \n",
    "    > 女性標準差：6.77\n",
    "   \n",
    "    \n",
    "* 扁平足\n",
    "    \n",
    "    根據[wiki扁平足](https://zh.wikipedia.org/wiki/%E6%89%81%E5%B9%B3%E8%B6%B3)\n",
    "    \n",
    "    > 有15~30%的世界人口有一定程度的扁平足\n",
    "    \n",
    "    因爲找不到臺灣的統計資料，假設 **20%** 的臺灣人有扁平足\n",
    "    \n",
    "    \n",
    "* 是否需要當兵\n",
    "    \n",
    "    如果以下四個條件都成立，則判斷需要當兵\n",
    "    \n",
    "    \n",
    "    1. 性別 = 1 （男生）\n",
    "    2. 年齡 >= 18\n",
    "    3. 17 <= BMI <= 31\n",
    "    4. 扁平足 = 0（無扁平足）\n"
   ]
  },
  {
   "cell_type": "code",
   "execution_count": 2,
   "metadata": {},
   "outputs": [],
   "source": [
    "data_size = 10000\n",
    "male_size = round(data_size * 0.7)\n",
    "female_size = data_size - male_size\n",
    "# Generate sex, 70% male, 30% female\n",
    "male = np.ones(round(male_size))\n",
    "female = np.zeros(round(female_size))\n",
    "sex = np.concatenate((male, female))\n",
    "\n",
    "# Generate age, from 14 to 22, uniform\n",
    "age = np.random.randint(14, 22 + 1, data_size)\n",
    "\n",
    "# Generate BMI\n",
    "male_BMI = np.random.normal(24.5, 6.19, round(male_size))\n",
    "female_BMI = np.random.normal(23.0, 6.77, round(female_size))\n",
    "\n",
    "BMI = np.concatenate((male_BMI, female_BMI))\n",
    "\n",
    "# Generate Flat Feet patient\n",
    "flat_feet = np.random.choice([0, 1], data_size, p=[0.8, 0.2])\n",
    "\n",
    "data = pd.DataFrame()\n",
    "data['sex'] = sex\n",
    "data['age'] = age\n",
    "data['BMI'] = BMI.round(3)\n",
    "data['flat_feet'] = flat_feet\n",
    "data['target'] = np.zeros(data_size)\n",
    "\n",
    "for index, row in data.iterrows():\n",
    "    sex = row['sex']\n",
    "    age = row['age']\n",
    "    BMI = row['BMI']\n",
    "    flat_feet = row['flat_feet']\n",
    "    target = row['target']\n",
    "    if sex == 1 and age >= 18 and BMI <= 31 and BMI >= 17 and flat_feet == 0:\n",
    "        data.at[index,'target'] = 1\n",
    "        \n",
    "        \n",
    "#data.to_csv('data.csv')"
   ]
  },
  {
   "cell_type": "code",
   "execution_count": 3,
   "metadata": {},
   "outputs": [
    {
     "data": {
      "text/html": [
       "<div>\n",
       "<style scoped>\n",
       "    .dataframe tbody tr th:only-of-type {\n",
       "        vertical-align: middle;\n",
       "    }\n",
       "\n",
       "    .dataframe tbody tr th {\n",
       "        vertical-align: top;\n",
       "    }\n",
       "\n",
       "    .dataframe thead th {\n",
       "        text-align: right;\n",
       "    }\n",
       "</style>\n",
       "<table border=\"1\" class=\"dataframe\">\n",
       "  <thead>\n",
       "    <tr style=\"text-align: right;\">\n",
       "      <th></th>\n",
       "      <th>sex</th>\n",
       "      <th>age</th>\n",
       "      <th>BMI</th>\n",
       "      <th>flat_feet</th>\n",
       "      <th>target</th>\n",
       "    </tr>\n",
       "  </thead>\n",
       "  <tbody>\n",
       "    <tr>\n",
       "      <th>0</th>\n",
       "      <td>1.0</td>\n",
       "      <td>20</td>\n",
       "      <td>19.547</td>\n",
       "      <td>0</td>\n",
       "      <td>1.0</td>\n",
       "    </tr>\n",
       "    <tr>\n",
       "      <th>1</th>\n",
       "      <td>1.0</td>\n",
       "      <td>17</td>\n",
       "      <td>22.690</td>\n",
       "      <td>0</td>\n",
       "      <td>0.0</td>\n",
       "    </tr>\n",
       "    <tr>\n",
       "      <th>2</th>\n",
       "      <td>1.0</td>\n",
       "      <td>21</td>\n",
       "      <td>34.502</td>\n",
       "      <td>0</td>\n",
       "      <td>0.0</td>\n",
       "    </tr>\n",
       "    <tr>\n",
       "      <th>3</th>\n",
       "      <td>1.0</td>\n",
       "      <td>18</td>\n",
       "      <td>21.015</td>\n",
       "      <td>0</td>\n",
       "      <td>1.0</td>\n",
       "    </tr>\n",
       "    <tr>\n",
       "      <th>4</th>\n",
       "      <td>1.0</td>\n",
       "      <td>20</td>\n",
       "      <td>23.474</td>\n",
       "      <td>1</td>\n",
       "      <td>0.0</td>\n",
       "    </tr>\n",
       "  </tbody>\n",
       "</table>\n",
       "</div>"
      ],
      "text/plain": [
       "   sex  age     BMI  flat_feet  target\n",
       "0  1.0   20  19.547          0     1.0\n",
       "1  1.0   17  22.690          0     0.0\n",
       "2  1.0   21  34.502          0     0.0\n",
       "3  1.0   18  21.015          0     1.0\n",
       "4  1.0   20  23.474          1     0.0"
      ]
     },
     "execution_count": 3,
     "metadata": {},
     "output_type": "execute_result"
    }
   ],
   "source": [
    "data.head()"
   ]
  },
  {
   "cell_type": "markdown",
   "metadata": {},
   "source": [
    "#### 1. 性別（Sex）\n",
    "\n",
    "70% 男生， 30% 女生"
   ]
  },
  {
   "cell_type": "code",
   "execution_count": 4,
   "metadata": {
    "scrolled": true
   },
   "outputs": [
    {
     "data": {
      "text/plain": [
       "<matplotlib.axes._subplots.AxesSubplot at 0x7fc95854e4e0>"
      ]
     },
     "execution_count": 4,
     "metadata": {},
     "output_type": "execute_result"
    },
    {
     "data": {
      "image/png": "[encoded data removed]",
      "text/plain": [
       "<Figure size 432x288 with 1 Axes>"
      ]
     },
     "metadata": {
      "needs_background": "light"
     },
     "output_type": "display_data"
    }
   ],
   "source": [
    "sns.distplot(data['sex'], kde=False)"
   ]
  },
  {
   "cell_type": "markdown",
   "metadata": {},
   "source": [
    "#### 2. 年齡（Age）\n",
    "\n",
    "14~24歲的 uniform distribution"
   ]
  },
  {
   "cell_type": "code",
   "execution_count": 5,
   "metadata": {},
   "outputs": [
    {
     "data": {
      "text/plain": [
       "<matplotlib.axes._subplots.AxesSubplot at 0x7fc95850fc50>"
      ]
     },
     "execution_count": 5,
     "metadata": {},
     "output_type": "execute_result"
    },
    {
     "data": {
      "image/png": "[encoded data removed]",
      "text/plain": [
       "<Figure size 432x288 with 1 Axes>"
      ]
     },
     "metadata": {
      "needs_background": "light"
     },
     "output_type": "display_data"
    }
   ],
   "source": [
    "sns.distplot(data['age'], kde=False)"
   ]
  },
  {
   "cell_type": "markdown",
   "metadata": {},
   "source": [
    "#### 3. BMI\n",
    "\n",
    "\n",
    "根據[衛服部統計資料](https://www.mohw.gov.tw/dl-13424-64eb6290-6a45-4a5d-aa6a-77b5c3deb327.html)\n",
    "\n",
    "> 臺灣男性（19~44歲）BMI：平均值 24.5，標準誤 0.3，樣本數426\n",
    "\n",
    "> 臺灣女性（19~44歲）BMI：平均值 23.0，標準誤 0.3，樣本數510\n",
    "    \n",
    "用以下公式轉換：\n",
    "    \n",
    "$$標準差（SD） =  標準誤 × \\sqrt{樣本數}$$\n",
    "    \n",
    "得出結果：\n",
    "    \n",
    "> 男性標準差：6.19\n",
    "    \n",
    "> 女性標準差：6.77\n",
    "\n",
    "使用 Normal Distribution 生成\n"
   ]
  },
  {
   "cell_type": "code",
   "execution_count": 6,
   "metadata": {},
   "outputs": [
    {
     "data": {
      "text/plain": [
       "<matplotlib.axes._subplots.AxesSubplot at 0x7fc958422d30>"
      ]
     },
     "execution_count": 6,
     "metadata": {},
     "output_type": "execute_result"
    },
    {
     "data": {
      "image/png": "[encoded data removed]",
      "text/plain": [
       "<Figure size 432x288 with 1 Axes>"
      ]
     },
     "metadata": {
      "needs_background": "light"
     },
     "output_type": "display_data"
    }
   ],
   "source": [
    "sns.distplot(data['BMI'], kde=False)"
   ]
  },
  {
   "cell_type": "markdown",
   "metadata": {},
   "source": [
    "#### 4. 扁平足（Flat Feet）\n",
    "\n",
    "20% 扁平足， 80% 非扁平足"
   ]
  },
  {
   "cell_type": "code",
   "execution_count": 7,
   "metadata": {},
   "outputs": [
    {
     "data": {
      "text/plain": [
       "<matplotlib.axes._subplots.AxesSubplot at 0x7fc95844d470>"
      ]
     },
     "execution_count": 7,
     "metadata": {},
     "output_type": "execute_result"
    },
    {
     "data": {
      "image/png": "[encoded data removed]",
      "text/plain": [
       "<Figure size 432x288 with 1 Axes>"
      ]
     },
     "metadata": {
      "needs_background": "light"
     },
     "output_type": "display_data"
    }
   ],
   "source": [
    "sns.distplot(data['flat_feet'], kde=False)"
   ]
  },
  {
   "cell_type": "markdown",
   "metadata": {},
   "source": [
    "#### 5. Target\n",
    "\n",
    "1:要當兵\n",
    "0:不用當兵"
   ]
  },
  {
   "cell_type": "code",
   "execution_count": 8,
   "metadata": {},
   "outputs": [
    {
     "data": {
      "text/plain": [
       "<matplotlib.axes._subplots.AxesSubplot at 0x7fc9583c8c18>"
      ]
     },
     "execution_count": 8,
     "metadata": {},
     "output_type": "execute_result"
    },
    {
     "data": {
      "image/png": "[encoded data removed]",
      "text/plain": [
       "<Figure size 432x288 with 1 Axes>"
      ]
     },
     "metadata": {
      "needs_background": "light"
     },
     "output_type": "display_data"
    }
   ],
   "source": [
    "sns.distplot(data['target'], kde=False)"
   ]
  },
  {
   "cell_type": "markdown",
   "metadata": {},
   "source": [
    "## 5. Construct Decision Tree\n",
    "\n",
    "### 分割 Train、Test data\n",
    "\n",
    "8000筆 Train data\n",
    "\n",
    "2000筆 Test data"
   ]
  },
  {
   "cell_type": "code",
   "execution_count": 9,
   "metadata": {},
   "outputs": [],
   "source": [
    "train = data[:8000]\n",
    "test = data[8000:]\n",
    "\n",
    "train_X = train[['sex', 'age', 'BMI', 'flat_feet']]\n",
    "train_Y = train['target']\n",
    "test_X = test[['sex', 'age', 'BMI', 'flat_feet']]\n",
    "test_Y = test['target']"
   ]
  },
  {
   "cell_type": "markdown",
   "metadata": {},
   "source": [
    "### 建立 Decison Tree"
   ]
  },
  {
   "cell_type": "code",
   "execution_count": 10,
   "metadata": {},
   "outputs": [],
   "source": [
    "from sklearn.tree import DecisionTreeClassifier\n",
    "\n",
    "dtree=DecisionTreeClassifier()\n",
    "dtree.fit(train_X,train_Y)\n",
    "\n",
    "dot_data = StringIO()\n",
    "export_graphviz(dtree, \n",
    "                out_file=dot_data,  \n",
    "                filled=True, \n",
    "                feature_names=list(train_X),\n",
    "                class_names=['NO','YES'],\n",
    "                special_characters=True)\n",
    "\n",
    "graph = pydotplus.graph_from_dot_data(dot_data.getvalue())  \n",
    "res = graph.write_png(\"./thumbs/tree.png\")\n",
    "#assert(res == True)"
   ]
  },
  {
   "cell_type": "markdown",
   "metadata": {},
   "source": [
    "### Decision Tree\n",
    "\n",
    "<img src='thumbs/tree.png' width=350 align=left>"
   ]
  },
  {
   "cell_type": "markdown",
   "metadata": {},
   "source": [
    "## 6. Compare with Rules\n",
    "\n",
    "因爲產生的 Decision Tree 和原本的 Rule 互相吻合，test的準確度是100%"
   ]
  },
  {
   "cell_type": "code",
   "execution_count": 11,
   "metadata": {},
   "outputs": [
    {
     "name": "stdout",
     "output_type": "stream",
     "text": [
      "Accuracy on test data:\n",
      "1.0\n"
     ]
    }
   ],
   "source": [
    "print('Accuracy on test data:')\n",
    "print(dtree.score(test_X, test_Y))"
   ]
  },
  {
   "cell_type": "markdown",
   "metadata": {},
   "source": [
    "## Report"
   ]
  },
  {
   "cell_type": "markdown",
   "metadata": {},
   "source": [
    "### 1. 準確率\n",
    "\n",
    "準確率：100% （2000筆測資）\n",
    "\n",
    "因爲產生出的 Decision Tree 和設計的 Rules 一樣"
   ]
  },
  {
   "cell_type": "markdown",
   "metadata": {},
   "source": [
    "### 2. Decision Tree\n",
    "\n",
    "<img src='thumbs/my_dt.png' width=450 align=left> <img src='thumbs/tree.png' width=350 align=left>\n",
    "<br>\n"
   ]
  },
  {
   "cell_type": "markdown",
   "metadata": {},
   "source": [
    "分析：\n",
    "\n",
    "* 層數：乍看之下總共有 4 個條件，應該有 5 層（如左邊的假想 Decision Tree），但是需要注意的是 CART Decision Tree 因爲使用 Gini Impurity，每一個條件都是 Binary 的分類，所以像 17 <= BMI <= 31 就會被拆成兩個條件 BMI >= 17（第三層） 和 BMI <= 31（第四層）。所以實際上產生的 Decision Tree總共會有 **6** 層\n",
    "\n",
    "\n",
    "* 分類的順序：\n",
    "    \n",
    "    設計規則的時候分類的順序是 性別（Sex）-> 年齡（Age）-> 扁平足（flat feet）-> BMI\n",
    "    \n",
    "    實際的 Decision Tree 分類的順序是 年齡（Age）-> 扁平足（flat feet）-> BMI -> 性別（Sex）\n",
    "    \n",
    "    會產生這樣的情況是因爲：\n",
    "        \n",
    "        1. 在 Generate 性別的時候，採用的是 14~24 歲的 uniform distribution，所以理論上，>18 歲的人和 <18 歲的人應該要各佔 50%（實際上 4460(>18) 3540(<18))，所以對於 Decision Tree 來說，先用年齡當做分開的依據會讓 Gini Index最大，因此第一層就會使用年齡來進行區分\n",
    "        \n",
    "        2. 性別分類屬於第五層有些違反直覺，但是因爲在生成 Data 的時候考慮到避免 Unbalanced data 問題，所以男生有70%，女生有30%，所以在算 Gini Index 的時候，會比第一層的 Gini Index 小\n",
    "        \n",
    "* 葉節點（leaf node）：\n",
    "    \n",
    "    因爲產生的葉節點的 Gini Impurity 全部降爲0，代表這個 model 完全 fit 這些資料。這有可能是 over-fitting 的標志，但是因爲在 test dataset上準確率也是 100%，所以在這裏， Gini Impurity 降爲 0 是因爲 Decision Tree 和當初設計的 Rule 完全符合\n",
    "    \n",
    "* 最大深度（max depth):\n",
    "    \n",
    "    可以看到，在建立 Decision Tree 的時候並沒有設定 MaxDepth 的參數，因爲最後 Gini Impurity 都達到 0，所以樹不會繼續長下去"
   ]
  },
  {
   "cell_type": "markdown",
   "metadata": {},
   "source": [
    "## Further Discussion\n",
    "\n",
    "因爲 Data 沒有 Noise，所以 Decision Tree 在**不限制 maxdepth**的條件下，不會 over fit 並且可以做到 100% 的準確度\n",
    "\n",
    "我們知道 Decision Tree 對 Noise 很敏感，所以接下來試着在 Data 裏面加一些 Noise，再觀察 Decision Tree 的情況\n",
    "\n",
    "在 Dataset 裏面隨機抽取 N% 要當兵的人改成不用當兵"
   ]
  },
  {
   "cell_type": "code",
   "execution_count": 12,
   "metadata": {},
   "outputs": [],
   "source": [
    "import random\n",
    "\n",
    "def add_noise(noise_value):\n",
    "    noise_data = data.copy()\n",
    "\n",
    "    for index, row in noise_data.iterrows():\n",
    "        if row['target'] == 1:\n",
    "            if np.random.choice([0, 1], p=[1-noise_value, noise_value]):\n",
    "                noise_data.at[index,'target'] = 0\n",
    "                \n",
    "    noise_train = noise_data[:8000]\n",
    "    noise_test = noise_data[8000:]\n",
    "\n",
    "    noise_train_X = noise_train[['sex', 'age', 'BMI', 'flat_feet']]\n",
    "    noise_train_Y = noise_train['target']\n",
    "    noise_test_X = noise_test[['sex', 'age', 'BMI', 'flat_feet']]\n",
    "    noise_test_Y = noise_test['target']\n",
    "    \n",
    "    noise_dtree=DecisionTreeClassifier()\n",
    "    noise_dtree.fit(noise_train_X,noise_train_Y)\n",
    "\n",
    "    noise_dot_data = StringIO()\n",
    "    export_graphviz(noise_dtree, \n",
    "                    out_file=noise_dot_data,  \n",
    "                    filled=True, \n",
    "                    feature_names=list(noise_train_X),\n",
    "                    class_names=['NO','YES'],\n",
    "                    special_characters=True)\n",
    "\n",
    "    noise_graph = pydotplus.graph_from_dot_data(noise_dot_data.getvalue())  \n",
    "\n",
    "    return noise_graph"
   ]
  },
  {
   "cell_type": "markdown",
   "metadata": {},
   "source": [
    "### 1. 隨機加入 0.1 % 的 Noise"
   ]
  },
  {
   "cell_type": "code",
   "execution_count": 13,
   "metadata": {},
   "outputs": [],
   "source": [
    "_ = add_noise(0.001).write_png(\"./thumbs/noise_tree_1.png\")"
   ]
  },
  {
   "cell_type": "markdown",
   "metadata": {},
   "source": [
    "結果：\n",
    "\n",
    "    可以看到 Decision Tree 上面的6層和原本的 Decision Tree 完全相同，但是爲了區分額外的 2 個sample（noise）而多出了 4 層\n",
    "\n",
    "<img src='thumbs/noise_tree_1.png' width=350 align=left>"
   ]
  },
  {
   "cell_type": "markdown",
   "metadata": {},
   "source": [
    "### 2. 隨機加入 0.5 % 的 Noise"
   ]
  },
  {
   "cell_type": "code",
   "execution_count": 14,
   "metadata": {},
   "outputs": [],
   "source": [
    "_ = add_noise(0.005).write_png(\"./thumbs/noise_tree_5.png\")"
   ]
  },
  {
   "cell_type": "markdown",
   "metadata": {},
   "source": [
    "結果：\n",
    "\n",
    "    可以看到 Decision Tree 上面的6層和原本的 Decision Tree 完全相同，但是爲了區分額外的 9 個sample（noise）而多出了 8 層\n",
    "\n",
    "<img src='thumbs/noise_tree_5.png' width=700 align=left>"
   ]
  },
  {
   "cell_type": "markdown",
   "metadata": {},
   "source": [
    "### Conclusion\n",
    "\n",
    "Decision Tree 是對 Noise 很敏感的一種 Model，如果要除去對 Noise 的影響可以設定 max depth 參數來剪枝（取上 n 層）"
   ]
  },
  {
   "cell_type": "markdown",
   "metadata": {},
   "source": [
    "# 僅此獻給所有還沒當兵的人\n",
    "# 還好我退了！"
   ]
  }
 ],
 "metadata": {
  "kernelspec": {
   "display_name": "Python 3",
   "language": "python",
   "name": "python3"
  },
  "language_info": {
   "codemirror_mode": {
    "name": "ipython",
    "version": 3
   },
   "file_extension": ".py",
   "mimetype": "text/x-python",
   "name": "python",
   "nbconvert_exporter": "python",
   "pygments_lexer": "ipython3",
   "version": "3.7.1"
  }
 },
 "nbformat": 4,
 "nbformat_minor": 2
}
